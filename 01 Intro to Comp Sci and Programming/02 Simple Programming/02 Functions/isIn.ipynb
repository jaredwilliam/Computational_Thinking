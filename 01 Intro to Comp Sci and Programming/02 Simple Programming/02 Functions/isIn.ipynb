{
 "cells": [
  {
   "cell_type": "code",
   "execution_count": 57,
   "metadata": {},
   "outputs": [],
   "source": [
    " def isIn(char, aStr):\n",
    "    guess = int((len(aStr)-1)/2)\n",
    "#     print('aStr is', aStr, ', and the middle of the string is', aStr[guess])\n",
    "\n",
    "    if aStr == '':\n",
    "        return False\n",
    "    elif char == aStr[guess]:\n",
    "        return True\n",
    "    else:    \n",
    "        if char < aStr[guess]:\n",
    "            print(char, '<', aStr[guess],'=> only consider the lower half which is',aStr[:guess])\n",
    "            return isIn(char,aStr[:guess])\n",
    "        else:\n",
    "            print(char, '>', aStr[guess],'=> only consider the upper half which is',aStr[guess+1:])        \n",
    "            return isIn(char,aStr[guess+1:])"
   ]
  },
  {
   "cell_type": "code",
   "execution_count": 58,
   "metadata": {},
   "outputs": [
    {
     "data": {
      "text/plain": [
       "False"
      ]
     },
     "execution_count": 58,
     "metadata": {},
     "output_type": "execute_result"
    }
   ],
   "source": [
    "isIn('a','')"
   ]
  },
  {
   "cell_type": "code",
   "execution_count": 51,
   "metadata": {},
   "outputs": [
    {
     "data": {
      "text/plain": [
       "0"
      ]
     },
     "execution_count": 51,
     "metadata": {},
     "output_type": "execute_result"
    }
   ],
   "source": [
    "len('')"
   ]
  },
  {
   "cell_type": "code",
   "execution_count": 53,
   "metadata": {},
   "outputs": [],
   "source": [
    "guess = int((len('')-1)/2)"
   ]
  },
  {
   "cell_type": "code",
   "execution_count": 54,
   "metadata": {},
   "outputs": [
    {
     "data": {
      "text/plain": [
       "0"
      ]
     },
     "execution_count": 54,
     "metadata": {},
     "output_type": "execute_result"
    }
   ],
   "source": [
    "guess"
   ]
  },
  {
   "cell_type": "code",
   "execution_count": null,
   "metadata": {},
   "outputs": [],
   "source": []
  }
 ],
 "metadata": {
  "kernelspec": {
   "display_name": "Python 3",
   "language": "python",
   "name": "python3"
  },
  "language_info": {
   "codemirror_mode": {
    "name": "ipython",
    "version": 3
   },
   "file_extension": ".py",
   "mimetype": "text/x-python",
   "name": "python",
   "nbconvert_exporter": "python",
   "pygments_lexer": "ipython3",
   "version": "3.8.5"
  }
 },
 "nbformat": 4,
 "nbformat_minor": 4
}
