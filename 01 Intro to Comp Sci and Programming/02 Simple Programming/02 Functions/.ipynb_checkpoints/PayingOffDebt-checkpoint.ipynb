{
 "cells": [
  {
   "cell_type": "code",
   "execution_count": 1,
   "metadata": {},
   "outputs": [],
   "source": [
    "def remainingDeby(balance, annualInterestRate, monthlyPaymentRate):\n",
    "    '''\n",
    "    Inputs:\n",
    "                balance - float; the outstanding balance on the credit card\n",
    "                annualInterestRate - float; annual interest rate as a decimal\n",
    "                \n",
    "                monthlyPaymentRate - \n",
    "                \n",
    "    '''\n",
    "    pass"
   ]
  },
  {
   "cell_type": "code",
   "execution_count": null,
   "metadata": {},
   "outputs": [],
   "source": []
  }
 ],
 "metadata": {
  "kernelspec": {
   "display_name": "Python 3",
   "language": "python",
   "name": "python3"
  },
  "language_info": {
   "codemirror_mode": {
    "name": "ipython",
    "version": 3
   },
   "file_extension": ".py",
   "mimetype": "text/x-python",
   "name": "python",
   "nbconvert_exporter": "python",
   "pygments_lexer": "ipython3",
   "version": "3.7.6"
  }
 },
 "nbformat": 4,
 "nbformat_minor": 4
}
