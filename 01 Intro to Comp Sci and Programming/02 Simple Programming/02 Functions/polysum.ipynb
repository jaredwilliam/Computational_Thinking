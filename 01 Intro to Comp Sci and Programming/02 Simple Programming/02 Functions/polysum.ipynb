{
 "cells": [
  {
   "cell_type": "markdown",
   "metadata": {},
   "source": [
    "A regular polygon has $n$ number of sides. Each sides has length $s$. \n",
    "\n",
    "The area of a regular polygon is:\n",
    "\n",
    "<center>$\\frac{0.25*n*s^2}{\\tan(\\pi/n)}$</center>\n",
    "\n",
    "The perimeter of a polygon is: length of the boundary of the polygon. \n",
    "\n",
    "Write a function called $polysum$ that takes 2 arguements, $n$ and $s$. This function should sum the area and square of the perimeter of the regular polygon. The function returns the sum, rounded to 4 decimal places. "
   ]
  },
  {
   "cell_type": "code",
   "execution_count": 4,
   "metadata": {},
   "outputs": [],
   "source": [
    "def polysum(n,s):\n",
    "    import math\n",
    "    \n",
    "    # calculate the area\n",
    "    area = 0.25*n*s**2 / math.tan(math.pi/n)\n",
    "    \n",
    "    # calculate perimeter squared\n",
    "    perim_sq = (n*s)**2\n",
    "    \n",
    "    return round(area+perim_sq,4)\n",
    "        "
   ]
  },
  {
   "cell_type": "code",
   "execution_count": 5,
   "metadata": {},
   "outputs": [
    {
     "data": {
      "text/plain": [
       "240.4843"
      ]
     },
     "execution_count": 5,
     "metadata": {},
     "output_type": "execute_result"
    }
   ],
   "source": [
    "polysum(5,3)"
   ]
  },
  {
   "cell_type": "code",
   "execution_count": null,
   "metadata": {},
   "outputs": [],
   "source": []
  }
 ],
 "metadata": {
  "kernelspec": {
   "display_name": "Python 3",
   "language": "python",
   "name": "python3"
  },
  "language_info": {
   "codemirror_mode": {
    "name": "ipython",
    "version": 3
   },
   "file_extension": ".py",
   "mimetype": "text/x-python",
   "name": "python",
   "nbconvert_exporter": "python",
   "pygments_lexer": "ipython3",
   "version": "3.7.6"
  }
 },
 "nbformat": 4,
 "nbformat_minor": 4
}
