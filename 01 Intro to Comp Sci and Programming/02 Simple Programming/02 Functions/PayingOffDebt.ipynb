{
 "cells": [
  {
   "cell_type": "code",
   "execution_count": 32,
   "metadata": {},
   "outputs": [],
   "source": [
    "def remainingDebt(balance, annualInterestRate, monthlyPaymentRate):\n",
    "    '''\n",
    "    Inputs:\n",
    "                balance - float; the outstanding balance on the credit card\n",
    "                annualInterestRate - float; annual interest rate as decimal\n",
    "                monthlyPaymentRate - float; minimum payment rate as a decimal\n",
    "    \n",
    "    Output:\n",
    "                Returns the remaining balance on the credit card after one year as a float rounded to two decimal places\n",
    "                \n",
    "    '''\n",
    "    \n",
    "    for i in range(12):\n",
    "        minPayment = balance * monthlyPaymentRate\n",
    "        unpaidBalance = balance - minPayment\n",
    "        interest = unpaidBalance*annualInterestRate/12    \n",
    "        balance = unpaidBalance + interest\n",
    "    \n",
    "    print('Remaining balance: ', round(balance,2))"
   ]
  },
  {
   "cell_type": "code",
   "execution_count": 33,
   "metadata": {},
   "outputs": [
    {
     "name": "stdout",
     "output_type": "stream",
     "text": [
      "Remaining balance:  361.61\n"
     ]
    }
   ],
   "source": [
    "remainingDebt(484,0.2,0.04)"
   ]
  },
  {
   "cell_type": "code",
   "execution_count": 42,
   "metadata": {},
   "outputs": [
    {
     "name": "stdout",
     "output_type": "stream",
     "text": [
      "Lowest Payment: 360\n"
     ]
    }
   ],
   "source": [
    "balance = 3926\n",
    "annualInterestRate = 0.2\n",
    "    \n",
    "minPayment = 10\n",
    "lookingForPayment = True\n",
    "\n",
    "while lookingForPayment:\n",
    "    \n",
    "    trackBalance = balance    \n",
    "\n",
    "    for i in range(12):\n",
    "        unpaidBalance = trackBalance - minPayment\n",
    "        interest = unpaidBalance*annualInterestRate/12    \n",
    "        trackBalance = unpaidBalance + interest\n",
    "\n",
    "    if trackBalance > 0:\n",
    "        minPayment += 10\n",
    "    else:\n",
    "        lookingForPayment = False\n",
    "        print('Lowest Payment:',round(minPayment,2))"
   ]
  },
  {
   "cell_type": "code",
   "execution_count": 1,
   "metadata": {},
   "outputs": [
    {
     "data": {
      "text/plain": [
       "True"
      ]
     },
     "execution_count": 1,
     "metadata": {},
     "output_type": "execute_result"
    }
   ],
   "source": [
    "round(0.0738723483143778,2) == 0.07"
   ]
  },
  {
   "cell_type": "code",
   "execution_count": 11,
   "metadata": {},
   "outputs": [
    {
     "name": "stdout",
     "output_type": "stream",
     "text": [
      "90325.03\n"
     ]
    }
   ],
   "source": [
    "balance = 999999\n",
    "annualInterestRate = 0.18\n",
    "\n",
    "low = balance/12\n",
    "high = balance*(1+annualInterestRate/12)**12/12\n",
    "guess = (high+low)/2\n",
    "\n",
    "lookingForPayment = True\n",
    "\n",
    "while lookingForPayment:\n",
    "    \n",
    "    trackBalance = balance    \n",
    "\n",
    "    for i in range(12):\n",
    "        unpaidBalance = trackBalance - guess\n",
    "        interest = unpaidBalance*annualInterestRate/12   \n",
    "        trackBalance = unpaidBalance + interest\n",
    "    \n",
    "    if round(trackBalance,2) > 0.00:\n",
    "        low = guess\n",
    "        guess = (high+low)/2.0\n",
    "    elif round(trackBalance,2) < 0.00:\n",
    "        high = guess\n",
    "        guess = (high+low)/2.0\n",
    "    else:\n",
    "        lookingForPayment = False\n",
    "        print(round(guess,2))\n",
    "\n"
   ]
  },
  {
   "cell_type": "code",
   "execution_count": null,
   "metadata": {},
   "outputs": [],
   "source": []
  }
 ],
 "metadata": {
  "kernelspec": {
   "display_name": "Python 3",
   "language": "python",
   "name": "python3"
  },
  "language_info": {
   "codemirror_mode": {
    "name": "ipython",
    "version": 3
   },
   "file_extension": ".py",
   "mimetype": "text/x-python",
   "name": "python",
   "nbconvert_exporter": "python",
   "pygments_lexer": "ipython3",
   "version": "3.7.6"
  }
 },
 "nbformat": 4,
 "nbformat_minor": 4
}
