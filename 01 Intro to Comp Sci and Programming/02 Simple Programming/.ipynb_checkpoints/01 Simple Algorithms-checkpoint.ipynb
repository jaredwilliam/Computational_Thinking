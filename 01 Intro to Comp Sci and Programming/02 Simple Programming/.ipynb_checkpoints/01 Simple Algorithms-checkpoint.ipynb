{
 "cells": [
  {
   "cell_type": "markdown",
   "metadata": {},
   "source": [
    "# Simple Algorithms"
   ]
  },
  {
   "cell_type": "markdown",
   "metadata": {},
   "source": [
    "Here is some code that runs a simple loop in order to compute the square root of a number."
   ]
  },
  {
   "cell_type": "code",
   "execution_count": 1,
   "metadata": {},
   "outputs": [
    {
     "name": "stdin",
     "output_type": "stream",
     "text": [
      "Enter an integer:  4\n"
     ]
    },
    {
     "name": "stdout",
     "output_type": "stream",
     "text": [
      "Square root of 4 is 2\n"
     ]
    }
   ],
   "source": [
    "ans = 0\n",
    "neg_flag = False\n",
    "x = int(input(\"Enter an integer: \"))\n",
    "if x < 0:\n",
    "    neg_flag = True\n",
    "while ans**2 < x:\n",
    "    ans = ans + 1\n",
    "if ans**2 == x:\n",
    "    print(\"Square root of\", x, \"is\", ans)\n",
    "else:\n",
    "    print(x, \"is not a perfect square\")\n",
    "    if neg_flag:\n",
    "        print(\"Did you mean\", -x, \"?\")"
   ]
  },
  {
   "cell_type": "markdown",
   "metadata": {},
   "source": [
    "This is an example of guess-and-check. I keep going until I find an answer unless I've gone too far then I stop. "
   ]
  },
  {
   "cell_type": "markdown",
   "metadata": {},
   "source": [
    "**Reviewing Strings**\n",
    "\n",
    "Think of **strings** as a sequence of case sensitive characters. We can compare strings. Square brackets are used to perform indexing. "
   ]
  },
  {
   "cell_type": "code",
   "execution_count": 2,
   "metadata": {},
   "outputs": [],
   "source": [
    "s = 'abc'"
   ]
  },
  {
   "cell_type": "code",
   "execution_count": 3,
   "metadata": {},
   "outputs": [
    {
     "data": {
      "text/plain": [
       "3"
      ]
     },
     "execution_count": 3,
     "metadata": {},
     "output_type": "execute_result"
    }
   ],
   "source": [
    "len(s)"
   ]
  },
  {
   "cell_type": "code",
   "execution_count": 4,
   "metadata": {},
   "outputs": [
    {
     "data": {
      "text/plain": [
       "'a'"
      ]
     },
     "execution_count": 4,
     "metadata": {},
     "output_type": "execute_result"
    }
   ],
   "source": [
    "s[0]"
   ]
  },
  {
   "cell_type": "code",
   "execution_count": 5,
   "metadata": {},
   "outputs": [
    {
     "data": {
      "text/plain": [
       "False"
      ]
     },
     "execution_count": 5,
     "metadata": {},
     "output_type": "execute_result"
    }
   ],
   "source": [
    "'ABC' == s"
   ]
  },
  {
   "cell_type": "markdown",
   "metadata": {},
   "source": [
    "Can also slice strings using [start:stop:step], as such:"
   ]
  },
  {
   "cell_type": "code",
   "execution_count": 6,
   "metadata": {},
   "outputs": [],
   "source": [
    "s = 'abcdefgh'"
   ]
  },
  {
   "cell_type": "code",
   "execution_count": 7,
   "metadata": {},
   "outputs": [
    {
     "data": {
      "text/plain": [
       "'hgfedcba'"
      ]
     },
     "execution_count": 7,
     "metadata": {},
     "output_type": "execute_result"
    }
   ],
   "source": [
    "s[::-1]"
   ]
  },
  {
   "cell_type": "code",
   "execution_count": 8,
   "metadata": {},
   "outputs": [
    {
     "data": {
      "text/plain": [
       "'def'"
      ]
     },
     "execution_count": 8,
     "metadata": {},
     "output_type": "execute_result"
    }
   ],
   "source": [
    "s[3:6]"
   ]
  },
  {
   "cell_type": "code",
   "execution_count": 9,
   "metadata": {},
   "outputs": [
    {
     "data": {
      "text/plain": [
       "'h'"
      ]
     },
     "execution_count": 9,
     "metadata": {},
     "output_type": "execute_result"
    }
   ],
   "source": [
    "s[-1]"
   ]
  },
  {
   "cell_type": "markdown",
   "metadata": {},
   "source": [
    "Strings are **immutable** - cannot be modified. \n",
    "\n",
    "    s = 'hello'\n",
    "    s[0] = 'y' --> gives an error\n",
    "    s = 'y' + s[1:len(s)] --> is allowed, s is a new object"
   ]
  },
  {
   "cell_type": "markdown",
   "metadata": {},
   "source": [
    "# Approximate Solutions"
   ]
  },
  {
   "cell_type": "markdown",
   "metadata": {},
   "source": [
    "- Suppose we now want to find the root of any non-negative number. \n",
    "- Cannot guarantee exact answer, but just look for something close enough. \n",
    "- Start with exhaustive enumeration. \n",
    "    - Take small steps to generate guesses in order\n",
    "    - check to see if close enough\n",
    "    \n",
    "We have to define what is *good enough* and we also have to define *small step*. \n",
    "\n",
    "In the case of a cube root estimator, \n",
    "\n",
    "<center>$|guess^3| - cube <= epsilon$</center>\n",
    "\n",
    "If the difference is smaller or equal to epsilon, we consider it good enough. \n",
    "\n",
    "If we make the step size too small, the program will take a while to run. If we make it too big, we might miss the answer. \n",
    "\n",
    "We can also increase epsilon to make it easier to find an answer but it will gives  us a less accurate answer. "
   ]
  },
  {
   "cell_type": "code",
   "execution_count": 13,
   "metadata": {},
   "outputs": [
    {
     "name": "stdout",
     "output_type": "stream",
     "text": [
      "num_guesses =  29997\n",
      "2.999700000001906 is close to the cube root of 27\n"
     ]
    }
   ],
   "source": [
    "cube = 27\n",
    "epsilon = 0.01\n",
    "guess = 0.0\n",
    "increment = 0.0001\n",
    "num_guesses = 0\n",
    "\n",
    "while abs(guess**3 - cube) >= epsilon:\n",
    "    guess += increment\n",
    "    num_guesses += 1\n",
    "print('num_guesses = ', num_guesses)\n",
    "if abs(guess**3 - cube) >= epsilon:\n",
    "    print('Failed on cube root of', cube)\n",
    "else:\n",
    "    print(guess, 'is close to the cube root of', cube)"
   ]
  },
  {
   "cell_type": "code",
   "execution_count": 14,
   "metadata": {},
   "outputs": [
    {
     "name": "stdout",
     "output_type": "stream",
     "text": [
      "num_guesses =  299997\n",
      "2.999970000011186 is close to the cube root of 27\n"
     ]
    }
   ],
   "source": [
    "cube = 27\n",
    "epsilon = 0.001\n",
    "guess = 0.0\n",
    "increment = 0.00001\n",
    "num_guesses = 0\n",
    "\n",
    "while abs(guess**3 - cube) >= epsilon:\n",
    "    guess += increment\n",
    "    num_guesses += 1\n",
    "print('num_guesses = ', num_guesses)\n",
    "if abs(guess**3 - cube) >= epsilon:\n",
    "    print('Failed on cube root of', cube)\n",
    "else:\n",
    "    print(guess, 'is close to the cube root of', cube)"
   ]
  },
  {
   "cell_type": "code",
   "execution_count": 11,
   "metadata": {},
   "outputs": [
    {
     "name": "stdout",
     "output_type": "stream",
     "text": [
      "succeeded: 4.999999999999998\n"
     ]
    }
   ],
   "source": [
    "x = 25\n",
    "epsilon = 0.01\n",
    "step = 0.1\n",
    "guess = 0.0\n",
    "\n",
    "while abs(guess**2-x) >= epsilon:\n",
    "    #print(guess)\n",
    "    if guess <= x:\n",
    "        guess += step\n",
    "    else:\n",
    "        break\n",
    "\n",
    "if abs(guess**2 - x) >= epsilon:\n",
    "    print('failed')\n",
    "else:\n",
    "    print('succeeded: ' + str(guess))"
   ]
  },
  {
   "cell_type": "markdown",
   "metadata": {},
   "source": [
    "# Bisection Search"
   ]
  },
  {
   "cell_type": "markdown",
   "metadata": {},
   "source": [
    "We know that the square root of x lies between 1 and x, from mathematics. Rather than exhaustively trying things starting at 1, suppose instead we pick a number in the middle of the range. If we are lucky, this answer is close enough. \n",
    "\n",
    "If it's not close enough, is our guess too big or too small? if g^2 > x, then we know it is too big, so we can then only search the range that is smaller than our original guess. We then do the same thing - select the middle value and ask about the size of g^2 relative to x. \n",
    "\n",
    "If g^2 < x, we throw everything to the left away. "
   ]
  },
  {
   "cell_type": "markdown",
   "metadata": {},
   "source": [
    "**Example of Square Root**"
   ]
  },
  {
   "cell_type": "code",
   "execution_count": 12,
   "metadata": {},
   "outputs": [
    {
     "name": "stdout",
     "output_type": "stream",
     "text": [
      "low =  1.0 high = 25 ans = 13.0\n",
      "low =  1.0 high = 13.0 ans = 7.0\n",
      "low =  1.0 high = 7.0 ans = 4.0\n",
      "low =  4.0 high = 7.0 ans = 5.5\n",
      "low =  4.0 high = 5.5 ans = 4.75\n",
      "low =  4.75 high = 5.5 ans = 5.125\n",
      "low =  4.75 high = 5.125 ans = 4.9375\n",
      "low =  4.9375 high = 5.125 ans = 5.03125\n",
      "low =  4.9375 high = 5.03125 ans = 4.984375\n",
      "low =  4.984375 high = 5.03125 ans = 5.0078125\n",
      "low =  4.984375 high = 5.0078125 ans = 4.99609375\n",
      "low =  4.99609375 high = 5.0078125 ans = 5.001953125\n",
      "numGuesses = 12\n",
      "4.9990234375 is close to square root of 25\n"
     ]
    }
   ],
   "source": [
    "x = 25\n",
    "epsilon = 0.01\n",
    "numGuesses = 0\n",
    "low = 1.0\n",
    "high = x\n",
    "ans = (high+low)/2.0\n",
    "\n",
    "while abs(ans**2-x) >= epsilon:\n",
    "    print('low = ', str(low) + ' high = ' + str(high) + ' ans = ' + str(ans))\n",
    "    numGuesses += 1\n",
    "    if ans**2 < x:\n",
    "        low = ans\n",
    "    else:\n",
    "        high = ans\n",
    "    ans = (high+low)/2.0\n",
    "print('numGuesses = ' + str(numGuesses))\n",
    "print(str(ans) + ' is close to square root of ' + str(x))"
   ]
  },
  {
   "cell_type": "markdown",
   "metadata": {},
   "source": [
    "**Cube Root**"
   ]
  },
  {
   "cell_type": "code",
   "execution_count": 13,
   "metadata": {},
   "outputs": [
    {
     "name": "stdout",
     "output_type": "stream",
     "text": [
      "low =  1.0 high = 27 ans = 14.0\n",
      "low =  1.0 high = 14.0 ans = 7.5\n",
      "low =  1.0 high = 7.5 ans = 4.25\n",
      "low =  1.0 high = 4.25 ans = 2.625\n",
      "low =  2.625 high = 4.25 ans = 3.4375\n",
      "low =  2.625 high = 3.4375 ans = 3.03125\n",
      "low =  2.625 high = 3.03125 ans = 2.828125\n",
      "low =  2.828125 high = 3.03125 ans = 2.9296875\n",
      "low =  2.9296875 high = 3.03125 ans = 2.98046875\n",
      "low =  2.98046875 high = 3.03125 ans = 3.005859375\n",
      "low =  2.98046875 high = 3.005859375 ans = 2.9931640625\n",
      "low =  2.9931640625 high = 3.005859375 ans = 2.99951171875\n",
      "low =  2.99951171875 high = 3.005859375 ans = 3.002685546875\n",
      "low =  2.99951171875 high = 3.002685546875 ans = 3.0010986328125\n",
      "numGuesses = 14\n",
      "3.00030517578125 is close to square root of 27\n"
     ]
    }
   ],
   "source": [
    "x = 27\n",
    "epsilon = 0.01\n",
    "numGuesses = 0\n",
    "low = 1.0\n",
    "high = x\n",
    "ans = (high+low)/2.0\n",
    "\n",
    "while abs(ans**3-x) >= epsilon:\n",
    "    print('low = ', str(low) + ' high = ' + str(high) + ' ans = ' + str(ans))\n",
    "    numGuesses += 1\n",
    "    if ans**3 < x:\n",
    "        low = ans\n",
    "    else:\n",
    "        high = ans\n",
    "    ans = (high+low)/2.0\n",
    "print('numGuesses = ' + str(numGuesses))\n",
    "print(str(ans) + ' is close to square root of ' + str(x))"
   ]
  },
  {
   "cell_type": "markdown",
   "metadata": {},
   "source": [
    "**Bisection Search Convergence**\n",
    "- Search space\n",
    "    - first guess: N/2\n",
    "    - second guess: N/4\n",
    "    - gth guess: N/(2^g)\n",
    "- Guess converges on the order of $log_2N$ steps. \n",
    "- Bisection search works when value of function varies monotonically with input\n",
    "- Code as shown only works for positive cubes - why?\n",
    "- challenges\n",
    "    - Modify to work with negative cubes\n",
    "    - Modify to work with x < 1\n",
    "    \n",
    "- If x < 1, search space is 0 to x but cube root is greater than x and less than 1\n",
    "    - so search space is x to 1\n",
    "- Modify the code to choose the search space depending on the value of x\n",
    "\n",
    "**Some Observations**\n",
    "- Bisection search radically reduces computation time - being smart about generating guesses is important\n",
    "- Should work well on problems with \"ordering\" property - value of function being solved varies monotonically with input value\n",
    "    - g^2 for example, which grows as g grows"
   ]
  },
  {
   "cell_type": "code",
   "execution_count": null,
   "metadata": {},
   "outputs": [],
   "source": []
  }
 ],
 "metadata": {
  "kernelspec": {
   "display_name": "Python 3",
   "language": "python",
   "name": "python3"
  },
  "language_info": {
   "codemirror_mode": {
    "name": "ipython",
    "version": 3
   },
   "file_extension": ".py",
   "mimetype": "text/x-python",
   "name": "python",
   "nbconvert_exporter": "python",
   "pygments_lexer": "ipython3",
   "version": "3.8.5"
  }
 },
 "nbformat": 4,
 "nbformat_minor": 4
}
