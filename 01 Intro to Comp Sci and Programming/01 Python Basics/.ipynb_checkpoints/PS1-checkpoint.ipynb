{
 "cells": [
  {
   "cell_type": "code",
   "execution_count": 1,
   "metadata": {},
   "outputs": [
    {
     "name": "stdout",
     "output_type": "stream",
     "text": [
      "Iteration 0; count is: 12\n",
      "Iteration 1; count is: 24\n",
      "Iteration 2; count is: 36\n",
      "Iteration 3; count is: 48\n",
      "Iteration 4; count is: 60\n"
     ]
    }
   ],
   "source": [
    "iteration = 0\n",
    "count = 0\n",
    "while iteration < 5:\n",
    "    for letter in \"hello, world\":\n",
    "        count += 1\n",
    "    print(\"Iteration \" + str(iteration) + \"; count is: \" + str(count))\n",
    "    iteration += 1 "
   ]
  },
  {
   "cell_type": "code",
   "execution_count": 2,
   "metadata": {},
   "outputs": [
    {
     "name": "stdout",
     "output_type": "stream",
     "text": [
      "Iteration 0; count is: 12\n",
      "Iteration 1; count is: 24\n",
      "Iteration 2; count is: 36\n",
      "Iteration 3; count is: 48\n",
      "Iteration 4; count is: 60\n"
     ]
    }
   ],
   "source": [
    "count = 0\n",
    "phrase = \"hello, world\"\n",
    "for iteration in range(5):\n",
    "    count += len(phrase)\n",
    "    print(\"Iteration \" + str(iteration) + \"; count is: \" + str(count))"
   ]
  },
  {
   "cell_type": "code",
   "execution_count": 16,
   "metadata": {},
   "outputs": [
    {
     "name": "stdout",
     "output_type": "stream",
     "text": [
      "5\n"
     ]
    }
   ],
   "source": [
    "count = 0\n",
    "s = 'booboobobpbobboboboiebobbuboobqor'\n",
    "for i in range(len(s)-2):\n",
    "    if s[i] == 'b' and s[i+1] == 'o' and s[i+2] == 'b':\n",
    "        count += 1\n",
    "print(count)"
   ]
  },
  {
   "cell_type": "code",
   "execution_count": 6,
   "metadata": {},
   "outputs": [
    {
     "data": {
      "text/plain": [
       "15"
      ]
     },
     "execution_count": 6,
     "metadata": {},
     "output_type": "execute_result"
    }
   ],
   "source": [
    "len(s)"
   ]
  },
  {
   "cell_type": "code",
   "execution_count": 9,
   "metadata": {},
   "outputs": [
    {
     "data": {
      "text/plain": [
       "range(0, 14)"
      ]
     },
     "execution_count": 9,
     "metadata": {},
     "output_type": "execute_result"
    }
   ],
   "source": [
    "range(len(s)-1)"
   ]
  },
  {
   "cell_type": "code",
   "execution_count": 8,
   "metadata": {},
   "outputs": [
    {
     "data": {
      "text/plain": [
       "'l'"
      ]
     },
     "execution_count": 8,
     "metadata": {},
     "output_type": "execute_result"
    }
   ],
   "source": [
    "s[14]"
   ]
  },
  {
   "cell_type": "markdown",
   "metadata": {},
   "source": [
    "Write a program that prints the longest substring of s in which the letters occur in alphabetical order. For example, if s = 'azcbobobegghakl', then your program should print:\n",
    "\n",
    "Longest substring in alphabetical order is: beggh\n",
    "\n",
    "In the case of ties, print the first substring. For example, if s = 'abcbcd', then your program should print\n",
    "\n",
    "Longest substring in alphabetical order is: abc"
   ]
  },
  {
   "cell_type": "code",
   "execution_count": 17,
   "metadata": {},
   "outputs": [],
   "source": [
    "s = 'azcbobobegghakl'"
   ]
  },
  {
   "cell_type": "code",
   "execution_count": 23,
   "metadata": {},
   "outputs": [],
   "source": [
    "substring = []\n",
    "for i in range(len(s)-1):\n",
    "    if s[i] < s[i+1]:\n",
    "        substring.append(s[i])\n",
    "    else:\n",
    "        pass"
   ]
  },
  {
   "cell_type": "code",
   "execution_count": 24,
   "metadata": {},
   "outputs": [
    {
     "data": {
      "text/plain": [
       "'azcbob'"
      ]
     },
     "execution_count": 24,
     "metadata": {},
     "output_type": "execute_result"
    }
   ],
   "source": [
    "s[:6]"
   ]
  },
  {
   "cell_type": "code",
   "execution_count": 73,
   "metadata": {},
   "outputs": [
    {
     "name": "stdout",
     "output_type": "stream",
     "text": [
      "akl\n"
     ]
    }
   ],
   "source": [
    "s = 'azcbobobegghakl'\n",
    "count = 1\n",
    "best = 1\n",
    "i_start = 0\n",
    "sub_string = []\n",
    "# i_range = []\n",
    "for i in range(len(s)-1):\n",
    "#     print('i: ',i)\n",
    "#     print('s[i]: ', s[i])\n",
    "#     print('s[i+1]: ', s[i+1])\n",
    "#     print('count before: ',count)\n",
    "#     print('best before: ', best)\n",
    "    if s[i] <= s[i+1]:\n",
    "#         print('True, s[i] <= s[i+1]')\n",
    "        count += 1\n",
    "        if count > best:\n",
    "#             print('count > best')\n",
    "            best = count\n",
    "    else:\n",
    "#         print('False, s[i] <= s[i+1]')\n",
    "        count = 1\n",
    "        i_start = i + 1\n",
    "#     print('count after: ',count)\n",
    "#     print('best after: ', best)\n",
    "#     print(i_start)\n",
    "#     print('')\n",
    "i_range = list(range(i_start,i_start + best))\n",
    "# print(i_range)\n",
    "print(s[i_range[0]:i_range[-1]+1])"
   ]
  },
  {
   "cell_type": "code",
   "execution_count": 22,
   "metadata": {},
   "outputs": [],
   "source": []
  },
  {
   "cell_type": "code",
   "execution_count": 23,
   "metadata": {},
   "outputs": [],
   "source": []
  },
  {
   "cell_type": "code",
   "execution_count": 34,
   "metadata": {},
   "outputs": [
    {
     "name": "stdout",
     "output_type": "stream",
     "text": [
      "Current:  a\n",
      "Longest:  a\n",
      "Current:  ab\n",
      "Longest:  ab\n",
      "Current:  \n",
      "Longest:  abc\n",
      "Current:  b\n",
      "Longest:  abc\n",
      "Current:  bc\n",
      "Longest:  abc\n",
      "abc\n"
     ]
    }
   ],
   "source": [
    "s = 'abcbcd'\n",
    "\n",
    "current_sub_string = ''\n",
    "longest_sub_string = ''\n",
    "\n",
    "for i in range(len(s)-1):\n",
    "    if s[i] <= s[i+1]:\n",
    "        current_sub_string += s[i]\n",
    "        if len(current_sub_string) > len(longest_sub_string):\n",
    "            longest_sub_string = current_sub_string\n",
    "    else:\n",
    "        current_sub_string += s[i]\n",
    "        if len(current_sub_string) > len(longest_sub_string):\n",
    "            longest_sub_string = current_sub_string\n",
    "        current_sub_string = ''\n",
    "print(longest_sub_string)"
   ]
  },
  {
   "cell_type": "code",
   "execution_count": null,
   "metadata": {},
   "outputs": [],
   "source": []
  },
  {
   "cell_type": "code",
   "execution_count": null,
   "metadata": {},
   "outputs": [],
   "source": []
  }
 ],
 "metadata": {
  "kernelspec": {
   "display_name": "Python 3",
   "language": "python",
   "name": "python3"
  },
  "language_info": {
   "codemirror_mode": {
    "name": "ipython",
    "version": 3
   },
   "file_extension": ".py",
   "mimetype": "text/x-python",
   "name": "python",
   "nbconvert_exporter": "python",
   "pygments_lexer": "ipython3",
   "version": "3.7.6"
  }
 },
 "nbformat": 4,
 "nbformat_minor": 4
}
