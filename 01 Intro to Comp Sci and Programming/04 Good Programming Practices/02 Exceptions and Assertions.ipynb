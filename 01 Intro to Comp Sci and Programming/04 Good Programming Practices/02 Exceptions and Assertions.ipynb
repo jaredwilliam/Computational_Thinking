{
 "cells": [
  {
   "cell_type": "markdown",
   "metadata": {},
   "source": [
    "# Exceptions"
   ]
  },
  {
   "cell_type": "markdown",
   "metadata": {},
   "source": [
    "What happens when procedure execution hits an unexpected condition? We get an exception... to what was expected. We have likely seen some of these:\n",
    "- SyntaxError: Python can't parse the program\n",
    "- NameError: local or global name not found\n",
    "- AttributeError: attribute reference fails\n",
    "- TypeError: operand doesn't have correct type\n",
    "- ValueError: operand type okay, but value is illegal\n",
    "- IOError: IO system reports malfunction (e.g., file not found)\n",
    "\n",
    "What to do when we encounter an error?\n",
    "- Fail silently\n",
    "    - Substitute default values or just continue\n",
    "    - Bad idea - user gets no warning\n",
    "- Return an \"error\" value\n",
    "    - what value to choose?\n",
    "    - Complicates code having to check special value\n",
    "- stop execution, signal error condition\n",
    "    - In Python: **raise an exception**\n",
    "    \n",
    "Python code can provide **handlers** for exceptions"
   ]
  },
  {
   "cell_type": "code",
   "execution_count": 1,
   "metadata": {},
   "outputs": [
    {
     "name": "stdout",
     "output_type": "stream",
     "text": [
      "Tell me one number: 4\n",
      "Tell me another number: 0\n",
      "Bug in user input\n",
      "Outside\n"
     ]
    }
   ],
   "source": [
    "try:\n",
    "    a = int(input('Tell me one number: '))\n",
    "    b = int(input('Tell me another number: '))\n",
    "    print(a/b)\n",
    "    print('OKay')\n",
    "except:\n",
    "    print('Bug in user input')\n",
    "print('Outside')"
   ]
  },
  {
   "cell_type": "markdown",
   "metadata": {},
   "source": [
    "We can handle specific exceptions but have to have separate except clauses"
   ]
  },
  {
   "cell_type": "code",
   "execution_count": 2,
   "metadata": {},
   "outputs": [
    {
     "name": "stdout",
     "output_type": "stream",
     "text": [
      "Tell me one number: 4\n",
      "Tell me another number: 0\n",
      "Cannot divide by zero.\n"
     ]
    }
   ],
   "source": [
    "try:\n",
    "    a = int(input('Tell me one number: '))\n",
    "    b = int(input('Tell me another number: '))\n",
    "    print(a/b)\n",
    "    print('OKay')\n",
    "except ValueError:\n",
    "    print('Could not convert to a number.')\n",
    "except ZeroDivisionError:\n",
    "    print('Cannot divide by zero.')\n",
    "except:\n",
    "    print('Something went wrong.')"
   ]
  },
  {
   "cell_type": "markdown",
   "metadata": {},
   "source": [
    "We can also use an else statement. The body of the else statement is executed when execution of the associated try body completes with no exceptions. \n",
    "\n",
    "We can also use the finally statement. The body of the finally statement is always executed after try, else, and except clauses, even if they raised nother error or executed a break, continue, or return. Useful for clean-up code that should be run no matter what else happened. "
   ]
  },
  {
   "cell_type": "markdown",
   "metadata": {},
   "source": [
    "# Exceptions Examples"
   ]
  },
  {
   "cell_type": "markdown",
   "metadata": {},
   "source": [
    "These are going to be examples of where we may typically see try-except blocks."
   ]
  },
  {
   "cell_type": "code",
   "execution_count": 7,
   "metadata": {},
   "outputs": [
    {
     "name": "stdout",
     "output_type": "stream",
     "text": [
      "Please enter an integer: a\n",
      "Input not an integer; try again\n",
      "Please enter an integer: 5\n",
      "Correct input of an integer!\n"
     ]
    }
   ],
   "source": [
    "while True:\n",
    "    try:\n",
    "        n = input('Please enter an integer: ')\n",
    "        n = int(n)\n",
    "        break\n",
    "    except ValueError:\n",
    "        print('Input not an integer; try again')\n",
    "print('Correct input of an integer!')"
   ]
  },
  {
   "cell_type": "code",
   "execution_count": 9,
   "metadata": {},
   "outputs": [
    {
     "name": "stdout",
     "output_type": "stream",
     "text": [
      "Provide a name of a file of data sdfadf\n",
      "Cannot open sdfadf\n"
     ]
    },
    {
     "ename": "NameError",
     "evalue": "name 'fh' is not defined",
     "output_type": "error",
     "traceback": [
      "\u001b[1;31m---------------------------------------------------------------------------\u001b[0m",
      "\u001b[1;31mNameError\u001b[0m                                 Traceback (most recent call last)",
      "\u001b[1;32m<ipython-input-9-4d0d226abd98>\u001b[0m in \u001b[0;36m<module>\u001b[1;34m\u001b[0m\n\u001b[0;32m     12\u001b[0m             \u001b[0mdata\u001b[0m\u001b[1;33m.\u001b[0m\u001b[0mappend\u001b[0m\u001b[1;33m(\u001b[0m\u001b[0maddit\u001b[0m\u001b[1;33m)\u001b[0m\u001b[1;33m\u001b[0m\u001b[1;33m\u001b[0m\u001b[0m\n\u001b[0;32m     13\u001b[0m \u001b[1;32mfinally\u001b[0m\u001b[1;33m:\u001b[0m\u001b[1;33m\u001b[0m\u001b[1;33m\u001b[0m\u001b[0m\n\u001b[1;32m---> 14\u001b[1;33m     \u001b[0mfh\u001b[0m\u001b[1;33m.\u001b[0m\u001b[0mclose\u001b[0m\u001b[1;33m(\u001b[0m\u001b[1;33m)\u001b[0m \u001b[1;31m# Close file even if fail\u001b[0m\u001b[1;33m\u001b[0m\u001b[1;33m\u001b[0m\u001b[0m\n\u001b[0m",
      "\u001b[1;31mNameError\u001b[0m: name 'fh' is not defined"
     ]
    }
   ],
   "source": [
    "data = []\n",
    "file_name =input('Provide a name of a file of data ')\n",
    "\n",
    "try:\n",
    "    fh = open(file_name, 'r')\n",
    "except IOError:\n",
    "    print('Cannot open', file_name)\n",
    "else:\n",
    "    for new in fh:\n",
    "        if new != '\\n':\n",
    "            addit = new[:-1].split(',') # remove traiing \\n\n",
    "            data.append(addit)\n",
    "finally:\n",
    "    fh.close() # Close file even if fail"
   ]
  },
  {
   "cell_type": "markdown",
   "metadata": {},
   "source": [
    "Example of controlling input"
   ]
  },
  {
   "cell_type": "code",
   "execution_count": null,
   "metadata": {},
   "outputs": [],
   "source": [
    "data = []\n",
    "file_name =input('Provide a name of a file of data ')\n",
    "\n",
    "try:\n",
    "    fh = open(file_name, 'r')\n",
    "except IOError:\n",
    "    print('Cannot open', file_name)\n",
    "else:\n",
    "    for new in fh:\n",
    "        if new != '\\n':\n",
    "            addit = new[:-1].split(',') # remove traiing \\n\n",
    "            data.append(addit)\n",
    "finally:\n",
    "    fh.close() # Close file even if fail\n",
    "    \n",
    "gradesData = []\n",
    "if data:\n",
    "    for student in data:\n",
    "        try:\n",
    "            gradesData.append([student[0:2], [student[2]]])\n",
    "        except IndexError:\n",
    "            gradesData.append([student[0:2], []])"
   ]
  },
  {
   "cell_type": "markdown",
   "metadata": {},
   "source": [
    "This code works okay if there is a standard form to the names, even in the case of no grade. But fails if names are not two parts long. "
   ]
  },
  {
   "cell_type": "code",
   "execution_count": null,
   "metadata": {},
   "outputs": [],
   "source": [
    "data = []\n",
    "file_name =input('Provide a name of a file of data ')\n",
    "\n",
    "try:\n",
    "    fh = open(file_name, 'r')\n",
    "except IOError:\n",
    "    print('Cannot open', file_name)\n",
    "else:\n",
    "    for new in fh:\n",
    "        if new != '\\n':\n",
    "            addit = new[:-1].split(',') # remove traiing \\n\n",
    "            data.append(addit)\n",
    "finally:\n",
    "    fh.close() # Close file even if fail\n",
    "    \n",
    "gradesData = []\n",
    "if data:\n",
    "    for student in data:\n",
    "        try:\n",
    "            name = student[0:-1]\n",
    "            grades = int(student[-1])\n",
    "            gradesData.append([name, [grades]])\n",
    "        except ValueError:\n",
    "            gradesData.append([student[:], []])"
   ]
  },
  {
   "cell_type": "markdown",
   "metadata": {},
   "source": [
    "# Excepti"
   ]
  }
 ],
 "metadata": {
  "kernelspec": {
   "display_name": "Python 3",
   "language": "python",
   "name": "python3"
  },
  "language_info": {
   "codemirror_mode": {
    "name": "ipython",
    "version": 3
   },
   "file_extension": ".py",
   "mimetype": "text/x-python",
   "name": "python",
   "nbconvert_exporter": "python",
   "pygments_lexer": "ipython3",
   "version": "3.7.6"
  }
 },
 "nbformat": 4,
 "nbformat_minor": 4
}
