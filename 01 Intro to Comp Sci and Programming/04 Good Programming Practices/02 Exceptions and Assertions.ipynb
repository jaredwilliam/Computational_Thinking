{
 "cells": [
  {
   "cell_type": "markdown",
   "metadata": {},
   "source": [
    "# Exceptions"
   ]
  },
  {
   "cell_type": "markdown",
   "metadata": {},
   "source": [
    "What happens when procedure execution hits an unexpected condition? We get an exception... to what was expected. We have likely seen some of these:\n",
    "- SyntaxError: Python can't parse the program\n",
    "- NameError: local or global name not found\n",
    "- AttributeError: attribute reference fails\n",
    "- TypeError: operand doesn't have correct type\n",
    "- ValueError: operand type okay, but value is illegal\n",
    "- IOError: IO system reports malfunction (e.g., file not found)\n",
    "\n",
    "What to do when we encounter an error?\n",
    "- Fail silently\n",
    "    - Substitute default values or just continue\n",
    "    - Bad idea - user gets no warning\n",
    "- Return an \"error\" value\n",
    "    - what value to choose?\n",
    "    - Complicates code having to check special value\n",
    "- stop execution, signal error condition\n",
    "    - In Python: **raise an exception**\n",
    "    \n",
    "Python code can provide **handlers** for exceptions"
   ]
  },
  {
   "cell_type": "code",
   "execution_count": 1,
   "metadata": {},
   "outputs": [
    {
     "name": "stdout",
     "output_type": "stream",
     "text": [
      "Tell me one number: 4\n",
      "Tell me another number: 0\n",
      "Bug in user input\n",
      "Outside\n"
     ]
    }
   ],
   "source": [
    "try:\n",
    "    a = int(input('Tell me one number: '))\n",
    "    b = int(input('Tell me another number: '))\n",
    "    print(a/b)\n",
    "    print('OKay')\n",
    "except:\n",
    "    print('Bug in user input')\n",
    "print('Outside')"
   ]
  },
  {
   "cell_type": "markdown",
   "metadata": {},
   "source": [
    "We can handle specific exceptions but have to have separate except clauses"
   ]
  },
  {
   "cell_type": "code",
   "execution_count": 2,
   "metadata": {},
   "outputs": [
    {
     "name": "stdout",
     "output_type": "stream",
     "text": [
      "Tell me one number: 4\n",
      "Tell me another number: 0\n",
      "Cannot divide by zero.\n"
     ]
    }
   ],
   "source": [
    "try:\n",
    "    a = int(input('Tell me one number: '))\n",
    "    b = int(input('Tell me another number: '))\n",
    "    print(a/b)\n",
    "    print('OKay')\n",
    "except ValueError:\n",
    "    print('Could not convert to a number.')\n",
    "except ZeroDivisionError:\n",
    "    print('Cannot divide by zero.')\n",
    "except:\n",
    "    print('Something went wrong.')"
   ]
  },
  {
   "cell_type": "markdown",
   "metadata": {},
   "source": [
    "We can also use an else statement. The body of the else statement is executed when execution of the associated try body completes with no exceptions. \n",
    "\n",
    "We can also use the finally statement. The body of the finally statement is always executed after try, else, and except clauses, even if they raised nother error or executed a break, continue, or return. Useful for clean-up code that should be run no matter what else happened. "
   ]
  },
  {
   "cell_type": "markdown",
   "metadata": {},
   "source": [
    "# Exceptions Examples"
   ]
  },
  {
   "cell_type": "markdown",
   "metadata": {},
   "source": [
    "These are going to be examples of where we may typically see try-except blocks."
   ]
  },
  {
   "cell_type": "code",
   "execution_count": 7,
   "metadata": {},
   "outputs": [
    {
     "name": "stdout",
     "output_type": "stream",
     "text": [
      "Please enter an integer: a\n",
      "Input not an integer; try again\n",
      "Please enter an integer: 5\n",
      "Correct input of an integer!\n"
     ]
    }
   ],
   "source": [
    "while True:\n",
    "    try:\n",
    "        n = input('Please enter an integer: ')\n",
    "        n = int(n)\n",
    "        break\n",
    "    except ValueError:\n",
    "        print('Input not an integer; try again')\n",
    "print('Correct input of an integer!')"
   ]
  },
  {
   "cell_type": "code",
   "execution_count": 9,
   "metadata": {},
   "outputs": [
    {
     "name": "stdout",
     "output_type": "stream",
     "text": [
      "Provide a name of a file of data sdfadf\n",
      "Cannot open sdfadf\n"
     ]
    },
    {
     "ename": "NameError",
     "evalue": "name 'fh' is not defined",
     "output_type": "error",
     "traceback": [
      "\u001b[1;31m---------------------------------------------------------------------------\u001b[0m",
      "\u001b[1;31mNameError\u001b[0m                                 Traceback (most recent call last)",
      "\u001b[1;32m<ipython-input-9-4d0d226abd98>\u001b[0m in \u001b[0;36m<module>\u001b[1;34m\u001b[0m\n\u001b[0;32m     12\u001b[0m             \u001b[0mdata\u001b[0m\u001b[1;33m.\u001b[0m\u001b[0mappend\u001b[0m\u001b[1;33m(\u001b[0m\u001b[0maddit\u001b[0m\u001b[1;33m)\u001b[0m\u001b[1;33m\u001b[0m\u001b[1;33m\u001b[0m\u001b[0m\n\u001b[0;32m     13\u001b[0m \u001b[1;32mfinally\u001b[0m\u001b[1;33m:\u001b[0m\u001b[1;33m\u001b[0m\u001b[1;33m\u001b[0m\u001b[0m\n\u001b[1;32m---> 14\u001b[1;33m     \u001b[0mfh\u001b[0m\u001b[1;33m.\u001b[0m\u001b[0mclose\u001b[0m\u001b[1;33m(\u001b[0m\u001b[1;33m)\u001b[0m \u001b[1;31m# Close file even if fail\u001b[0m\u001b[1;33m\u001b[0m\u001b[1;33m\u001b[0m\u001b[0m\n\u001b[0m",
      "\u001b[1;31mNameError\u001b[0m: name 'fh' is not defined"
     ]
    }
   ],
   "source": [
    "data = []\n",
    "file_name =input('Provide a name of a file of data ')\n",
    "\n",
    "try:\n",
    "    fh = open(file_name, 'r')\n",
    "except IOError:\n",
    "    print('Cannot open', file_name)\n",
    "else:\n",
    "    for new in fh:\n",
    "        if new != '\\n':\n",
    "            addit = new[:-1].split(',') # remove traiing \\n\n",
    "            data.append(addit)\n",
    "finally:\n",
    "    fh.close() # Close file even if fail"
   ]
  },
  {
   "cell_type": "markdown",
   "metadata": {},
   "source": [
    "Example of controlling input"
   ]
  },
  {
   "cell_type": "code",
   "execution_count": null,
   "metadata": {},
   "outputs": [],
   "source": [
    "data = []\n",
    "file_name =input('Provide a name of a file of data ')\n",
    "\n",
    "try:\n",
    "    fh = open(file_name, 'r')\n",
    "except IOError:\n",
    "    print('Cannot open', file_name)\n",
    "else:\n",
    "    for new in fh:\n",
    "        if new != '\\n':\n",
    "            addit = new[:-1].split(',') # remove traiing \\n\n",
    "            data.append(addit)\n",
    "finally:\n",
    "    fh.close() # Close file even if fail\n",
    "    \n",
    "gradesData = []\n",
    "if data:\n",
    "    for student in data:\n",
    "        try:\n",
    "            gradesData.append([student[0:2], [student[2]]])\n",
    "        except IndexError:\n",
    "            gradesData.append([student[0:2], []])"
   ]
  },
  {
   "cell_type": "markdown",
   "metadata": {},
   "source": [
    "This code works okay if there is a standard form to the names, even in the case of no grade. But fails if names are not two parts long. "
   ]
  },
  {
   "cell_type": "code",
   "execution_count": null,
   "metadata": {},
   "outputs": [],
   "source": [
    "data = []\n",
    "file_name =input('Provide a name of a file of data ')\n",
    "\n",
    "try:\n",
    "    fh = open(file_name, 'r')\n",
    "except IOError:\n",
    "    print('Cannot open', file_name)\n",
    "else:\n",
    "    for new in fh:\n",
    "        if new != '\\n':\n",
    "            addit = new[:-1].split(',') # remove traiing \\n\n",
    "            data.append(addit)\n",
    "finally:\n",
    "    fh.close() # Close file even if fail\n",
    "    \n",
    "gradesData = []\n",
    "if data:\n",
    "    for student in data:\n",
    "        try:\n",
    "            name = student[0:-1]\n",
    "            grades = int(student[-1])\n",
    "            gradesData.append([name, [grades]])\n",
    "        except ValueError:\n",
    "            gradesData.append([student[:], []])"
   ]
  },
  {
   "cell_type": "markdown",
   "metadata": {},
   "source": [
    "# Exceptions as Control Flow"
   ]
  },
  {
   "cell_type": "markdown",
   "metadata": {},
   "source": [
    "We can decide when to raise an exception ourselves. Don't return special values when an error occurred and then check whether 'error value' was returned. Instead, raise an exception when unable to produce a result consistent with functions specifications."
   ]
  },
  {
   "cell_type": "code",
   "execution_count": 11,
   "metadata": {},
   "outputs": [],
   "source": [
    "def get_ratios(L1, L2):\n",
    "    ''' Assumes: L1 and L2 are lists of equal length of numbers\n",
    "        Returns: A list containing L1[i]/L2[i] '''\n",
    "    ratios = []\n",
    "    for index in range(len(L1)):\n",
    "        try:\n",
    "            ratios.append(L1[index]/float(L2[index]))\n",
    "        except ZeroDivisionError:\n",
    "                ratios.append(float('NaN'))\n",
    "        except:\n",
    "            raise ValueError('get_ratios called with bad arg')\n",
    "    return ratios"
   ]
  },
  {
   "cell_type": "code",
   "execution_count": 35,
   "metadata": {},
   "outputs": [],
   "source": [
    "def fancy_divide(list_of_numbers, index):\n",
    "    denom = list_of_numbers[index]\n",
    "    return [simple_divide(item, denom) for item in list_of_numbers]\n",
    "\n",
    "\n",
    "def simple_divide(item, denom):\n",
    "    try:\n",
    "        return item / denom\n",
    "    except ZeroDivisionError:\n",
    "        return 0"
   ]
  },
  {
   "cell_type": "code",
   "execution_count": 36,
   "metadata": {},
   "outputs": [
    {
     "data": {
      "text/plain": [
       "[0, 0, 0]"
      ]
     },
     "execution_count": 36,
     "metadata": {},
     "output_type": "execute_result"
    }
   ],
   "source": [
    "fancy_divide([0, 2, 4], 0)"
   ]
  },
  {
   "cell_type": "markdown",
   "metadata": {},
   "source": [
    "# Assertions"
   ]
  },
  {
   "cell_type": "markdown",
   "metadata": {},
   "source": [
    "When we have written functions, we write doc strings that list write out the contract with that function - what it will do when given an assumed input. But we have never really enforced that. We can use assertions. \n",
    "\n",
    "We want to be sure that assumptions on state of computation are as expected. Use an assert statement to raise an AssertionError exception if assumptions are not met. This is an example of good defensive programming. "
   ]
  },
  {
   "cell_type": "code",
   "execution_count": 38,
   "metadata": {},
   "outputs": [],
   "source": [
    "def avg(grades):\n",
    "    assert not len(grades) == 0, 'no grades data'\n",
    "    return sum(grades)/len(grades)"
   ]
  },
  {
   "cell_type": "markdown",
   "metadata": {},
   "source": [
    "This function raises an AssertionError if it is given an empty list for grades. Function stops immediately. "
   ]
  },
  {
   "cell_type": "code",
   "execution_count": 39,
   "metadata": {},
   "outputs": [
    {
     "ename": "AssertionError",
     "evalue": "no grades data",
     "output_type": "error",
     "traceback": [
      "\u001b[1;31m---------------------------------------------------------------------------\u001b[0m",
      "\u001b[1;31mAssertionError\u001b[0m                            Traceback (most recent call last)",
      "\u001b[1;32m<ipython-input-39-938d6a1744f6>\u001b[0m in \u001b[0;36m<module>\u001b[1;34m\u001b[0m\n\u001b[1;32m----> 1\u001b[1;33m \u001b[0mavg\u001b[0m\u001b[1;33m(\u001b[0m\u001b[1;33m[\u001b[0m\u001b[1;33m]\u001b[0m\u001b[1;33m)\u001b[0m\u001b[1;33m\u001b[0m\u001b[1;33m\u001b[0m\u001b[0m\n\u001b[0m",
      "\u001b[1;32m<ipython-input-38-2221a6b79207>\u001b[0m in \u001b[0;36mavg\u001b[1;34m(grades)\u001b[0m\n\u001b[0;32m      1\u001b[0m \u001b[1;32mdef\u001b[0m \u001b[0mavg\u001b[0m\u001b[1;33m(\u001b[0m\u001b[0mgrades\u001b[0m\u001b[1;33m)\u001b[0m\u001b[1;33m:\u001b[0m\u001b[1;33m\u001b[0m\u001b[1;33m\u001b[0m\u001b[0m\n\u001b[1;32m----> 2\u001b[1;33m     \u001b[1;32massert\u001b[0m \u001b[1;32mnot\u001b[0m \u001b[0mlen\u001b[0m\u001b[1;33m(\u001b[0m\u001b[0mgrades\u001b[0m\u001b[1;33m)\u001b[0m \u001b[1;33m==\u001b[0m \u001b[1;36m0\u001b[0m\u001b[1;33m,\u001b[0m \u001b[1;34m'no grades data'\u001b[0m\u001b[1;33m\u001b[0m\u001b[1;33m\u001b[0m\u001b[0m\n\u001b[0m\u001b[0;32m      3\u001b[0m     \u001b[1;32mreturn\u001b[0m \u001b[0msum\u001b[0m\u001b[1;33m(\u001b[0m\u001b[0mgrades\u001b[0m\u001b[1;33m)\u001b[0m\u001b[1;33m/\u001b[0m\u001b[0mlen\u001b[0m\u001b[1;33m(\u001b[0m\u001b[0mgrades\u001b[0m\u001b[1;33m)\u001b[0m\u001b[1;33m\u001b[0m\u001b[1;33m\u001b[0m\u001b[0m\n",
      "\u001b[1;31mAssertionError\u001b[0m: no grades data"
     ]
    }
   ],
   "source": [
    "avg([])"
   ]
  },
  {
   "cell_type": "markdown",
   "metadata": {},
   "source": [
    "Assertions don't allow a programmer to control response to unexpected conditions. Ensure that execution halts whenever an expected condition is not met. Typically used to check inputs to functions procedures, but can be used anywhere. Can be used to check outputs of a function to aoid progagating bad values. Can make it easier to locate a source of a bug. \n",
    "\n",
    "Where should you use assertions?\n",
    "- Goal is to spot bigs as soon as introduced and make clear where they happened. \n",
    "- Use as a supplement to testing\n",
    "- Raise **exceptions** if users supplies bad data input\n",
    "- Use **assertions** to:\n",
    "    - check types of arguments or values\n",
    "    - check that invariants on data structures are met\n",
    "    - check constraints on return values\n",
    "    - check for violations of constraints on procedure (e.g., no duplicates in a list)"
   ]
  },
  {
   "cell_type": "code",
   "execution_count": 45,
   "metadata": {},
   "outputs": [],
   "source": [
    "def normalize(numbers):\n",
    "    max_number = max(numbers)\n",
    "    assert(max_number != 0), \"Cannot divide by 0\"\n",
    "    for i in range(len(numbers)):\n",
    "        numbers[i]  /= float(max_number)\n",
    "        assert(0.0 <= numbers[i] <= 1.0), \"output not between 0 and 1\"\n",
    "    return numbers"
   ]
  },
  {
   "cell_type": "code",
   "execution_count": 46,
   "metadata": {},
   "outputs": [
    {
     "ename": "AssertionError",
     "evalue": "Cannot divide by 0",
     "output_type": "error",
     "traceback": [
      "\u001b[1;31m---------------------------------------------------------------------------\u001b[0m",
      "\u001b[1;31mAssertionError\u001b[0m                            Traceback (most recent call last)",
      "\u001b[1;32m<ipython-input-46-4a18c8f2b654>\u001b[0m in \u001b[0;36m<module>\u001b[1;34m\u001b[0m\n\u001b[1;32m----> 1\u001b[1;33m \u001b[0mnormalize\u001b[0m\u001b[1;33m(\u001b[0m\u001b[1;33m[\u001b[0m\u001b[1;36m0\u001b[0m\u001b[1;33m,\u001b[0m \u001b[1;36m0\u001b[0m\u001b[1;33m,\u001b[0m \u001b[1;36m0\u001b[0m\u001b[1;33m]\u001b[0m\u001b[1;33m)\u001b[0m\u001b[1;33m\u001b[0m\u001b[1;33m\u001b[0m\u001b[0m\n\u001b[0m",
      "\u001b[1;32m<ipython-input-45-833e4630d375>\u001b[0m in \u001b[0;36mnormalize\u001b[1;34m(numbers)\u001b[0m\n\u001b[0;32m      1\u001b[0m \u001b[1;32mdef\u001b[0m \u001b[0mnormalize\u001b[0m\u001b[1;33m(\u001b[0m\u001b[0mnumbers\u001b[0m\u001b[1;33m)\u001b[0m\u001b[1;33m:\u001b[0m\u001b[1;33m\u001b[0m\u001b[1;33m\u001b[0m\u001b[0m\n\u001b[0;32m      2\u001b[0m     \u001b[0mmax_number\u001b[0m \u001b[1;33m=\u001b[0m \u001b[0mmax\u001b[0m\u001b[1;33m(\u001b[0m\u001b[0mnumbers\u001b[0m\u001b[1;33m)\u001b[0m\u001b[1;33m\u001b[0m\u001b[1;33m\u001b[0m\u001b[0m\n\u001b[1;32m----> 3\u001b[1;33m     \u001b[1;32massert\u001b[0m\u001b[1;33m(\u001b[0m\u001b[0mmax_number\u001b[0m \u001b[1;33m!=\u001b[0m \u001b[1;36m0\u001b[0m\u001b[1;33m)\u001b[0m\u001b[1;33m,\u001b[0m \u001b[1;34m\"Cannot divide by 0\"\u001b[0m\u001b[1;33m\u001b[0m\u001b[1;33m\u001b[0m\u001b[0m\n\u001b[0m\u001b[0;32m      4\u001b[0m     \u001b[1;32mfor\u001b[0m \u001b[0mi\u001b[0m \u001b[1;32min\u001b[0m \u001b[0mrange\u001b[0m\u001b[1;33m(\u001b[0m\u001b[0mlen\u001b[0m\u001b[1;33m(\u001b[0m\u001b[0mnumbers\u001b[0m\u001b[1;33m)\u001b[0m\u001b[1;33m)\u001b[0m\u001b[1;33m:\u001b[0m\u001b[1;33m\u001b[0m\u001b[1;33m\u001b[0m\u001b[0m\n\u001b[0;32m      5\u001b[0m         \u001b[0mnumbers\u001b[0m\u001b[1;33m[\u001b[0m\u001b[0mi\u001b[0m\u001b[1;33m]\u001b[0m  \u001b[1;33m/=\u001b[0m \u001b[0mfloat\u001b[0m\u001b[1;33m(\u001b[0m\u001b[0mmax_number\u001b[0m\u001b[1;33m)\u001b[0m\u001b[1;33m\u001b[0m\u001b[1;33m\u001b[0m\u001b[0m\n",
      "\u001b[1;31mAssertionError\u001b[0m: Cannot divide by 0"
     ]
    }
   ],
   "source": [
    "normalize([0, 0, 0])"
   ]
  },
  {
   "cell_type": "code",
   "execution_count": null,
   "metadata": {},
   "outputs": [],
   "source": []
  }
 ],
 "metadata": {
  "kernelspec": {
   "display_name": "Python 3",
   "language": "python",
   "name": "python3"
  },
  "language_info": {
   "codemirror_mode": {
    "name": "ipython",
    "version": 3
   },
   "file_extension": ".py",
   "mimetype": "text/x-python",
   "name": "python",
   "nbconvert_exporter": "python",
   "pygments_lexer": "ipython3",
   "version": "3.7.6"
  }
 },
 "nbformat": 4,
 "nbformat_minor": 4
}
