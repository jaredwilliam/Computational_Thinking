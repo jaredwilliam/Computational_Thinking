{
 "cells": [
  {
   "cell_type": "code",
   "execution_count": 9,
   "metadata": {},
   "outputs": [],
   "source": [
    "SCRABBLE_LETTER_VALUES = {\n",
    "    'a': 1, 'b': 3, 'c': 3, 'd': 2, 'e': 1, \n",
    "    'f': 4, 'g': 2, 'h': 4, 'i': 1, 'j': 8, \n",
    "    'k': 5, 'l': 1, 'm': 3, 'n': 1, 'o': 1, \n",
    "    'p': 3, 'q': 10, 'r': 1, 's': 1, 't': 1, \n",
    "    'u': 1, 'v': 4, 'w': 4, 'x': 8, 'y': 4, 'z': 10\n",
    "}"
   ]
  },
  {
   "cell_type": "code",
   "execution_count": 13,
   "metadata": {},
   "outputs": [],
   "source": [
    "word = 'cat'"
   ]
  },
  {
   "cell_type": "code",
   "execution_count": 14,
   "metadata": {},
   "outputs": [],
   "source": [
    "score = 0"
   ]
  },
  {
   "cell_type": "code",
   "execution_count": 15,
   "metadata": {},
   "outputs": [],
   "source": [
    "for letter in word:\n",
    "    score += SCRABBLE_LETTER_VALUES[letter]\n",
    "\n",
    "score *= len(word)"
   ]
  },
  {
   "cell_type": "code",
   "execution_count": null,
   "metadata": {},
   "outputs": [],
   "source": []
  },
  {
   "cell_type": "code",
   "execution_count": 16,
   "metadata": {},
   "outputs": [
    {
     "data": {
      "text/plain": [
       "15"
      ]
     },
     "execution_count": 16,
     "metadata": {},
     "output_type": "execute_result"
    }
   ],
   "source": [
    "score"
   ]
  },
  {
   "cell_type": "code",
   "execution_count": 25,
   "metadata": {},
   "outputs": [],
   "source": [
    "def getWordScore(word,n):\n",
    "    turn = 1\n",
    "    score = 0 \n",
    "    for letter in word:\n",
    "        score += SCRABBLE_LETTER_VALUES[letter]\n",
    "    score *= len(word)\n",
    "    \n",
    "    if len(word) == n:\n",
    "        score += 50\n",
    "    return score"
   ]
  },
  {
   "cell_type": "code",
   "execution_count": 28,
   "metadata": {},
   "outputs": [
    {
     "data": {
      "text/plain": [
       "94"
      ]
     },
     "execution_count": 28,
     "metadata": {},
     "output_type": "execute_result"
    }
   ],
   "source": [
    "getWordScore('fork',4)"
   ]
  },
  {
   "cell_type": "code",
   "execution_count": 29,
   "metadata": {},
   "outputs": [
    {
     "name": "stdout",
     "output_type": "stream",
     "text": [
      "h e l l o \n"
     ]
    }
   ],
   "source": [
    "hand = {'h': 1, 'e': 1, 'l': 2, 'o': 1}\n",
    "for letter in hand.keys():\n",
    "    for j in range(hand[letter]):\n",
    "        print(letter,end=\" \")       # print all on the same line\n",
    "print()   "
   ]
  },
  {
   "cell_type": "code",
   "execution_count": 30,
   "metadata": {},
   "outputs": [
    {
     "data": {
      "text/plain": [
       "dict_keys(['h', 'e', 'l', 'o'])"
      ]
     },
     "execution_count": 30,
     "metadata": {},
     "output_type": "execute_result"
    }
   ],
   "source": [
    "hand.keys()"
   ]
  },
  {
   "cell_type": "code",
   "execution_count": 32,
   "metadata": {},
   "outputs": [
    {
     "name": "stdout",
     "output_type": "stream",
     "text": [
      "1\n",
      "1\n",
      "2\n",
      "1\n"
     ]
    }
   ],
   "source": [
    "for letter in hand.keys():\n",
    "    print(hand[letter])"
   ]
  },
  {
   "cell_type": "code",
   "execution_count": 48,
   "metadata": {},
   "outputs": [],
   "source": [
    "hand = {'a':1, 'q':1, 'l':2, 'm':1, 'u':1, 'i':1}\n",
    "word = 'quail'"
   ]
  },
  {
   "cell_type": "code",
   "execution_count": 49,
   "metadata": {},
   "outputs": [],
   "source": [
    "copy_hand = hand.copy()"
   ]
  },
  {
   "cell_type": "code",
   "execution_count": 50,
   "metadata": {},
   "outputs": [
    {
     "data": {
      "text/plain": [
       "{'a': 0, 'q': 0, 'l': 1, 'm': 1, 'u': 0, 'i': 0}"
      ]
     },
     "execution_count": 50,
     "metadata": {},
     "output_type": "execute_result"
    }
   ],
   "source": [
    "for letter in word:\n",
    "    copy_hand[letter] -= 1\n",
    "copy_hand"
   ]
  },
  {
   "cell_type": "code",
   "execution_count": 51,
   "metadata": {},
   "outputs": [],
   "source": [
    "WORDLIST_FILENAME = \"words.txt\"\n",
    "\n",
    "def loadWords():\n",
    "    \"\"\"\n",
    "    Returns a list of valid words. Words are strings of lowercase letters.\n",
    "\n",
    "    Depending on the size of the word list, this function may\n",
    "    take a while to finish.\n",
    "    \"\"\"\n",
    "    print(\"Loading word list from file...\")\n",
    "    # inFile: file\n",
    "    inFile = open(WORDLIST_FILENAME, 'r')\n",
    "    # wordList: list of strings\n",
    "    wordList = []\n",
    "    for line in inFile:\n",
    "        wordList.append(line.strip().lower())\n",
    "    print(\"  \", len(wordList), \"words loaded.\")\n",
    "    return wordList"
   ]
  },
  {
   "cell_type": "code",
   "execution_count": 55,
   "metadata": {},
   "outputs": [
    {
     "name": "stdout",
     "output_type": "stream",
     "text": [
      "Loading word list from file...\n",
      "   83667 words loaded.\n"
     ]
    }
   ],
   "source": [
    "wordList = loadWords();"
   ]
  },
  {
   "cell_type": "code",
   "execution_count": 57,
   "metadata": {},
   "outputs": [
    {
     "data": {
      "text/plain": [
       "False"
      ]
     },
     "execution_count": 57,
     "metadata": {},
     "output_type": "execute_result"
    }
   ],
   "source": [
    "'' in wordList"
   ]
  },
  {
   "cell_type": "code",
   "execution_count": 76,
   "metadata": {},
   "outputs": [],
   "source": [
    "def isValidWord(word, hand, wordList):\n",
    "    # Checking if word is in word list\n",
    "    if word not in wordList:\n",
    "        return False\n",
    "    # Checking if the word is made up of letters in the hand\n",
    "    copy_hand = hand.copy()\n",
    "    for letter in word:\n",
    "        if copy_hand.get(letter,0) == 0:\n",
    "            return False\n",
    "        copy_hand[letter] -= 1\n",
    "    return True"
   ]
  },
  {
   "cell_type": "code",
   "execution_count": 77,
   "metadata": {},
   "outputs": [
    {
     "data": {
      "text/plain": [
       "'quail'"
      ]
     },
     "execution_count": 77,
     "metadata": {},
     "output_type": "execute_result"
    }
   ],
   "source": [
    "word"
   ]
  },
  {
   "cell_type": "code",
   "execution_count": 78,
   "metadata": {},
   "outputs": [
    {
     "data": {
      "text/plain": [
       "{'a': 1, 'q': 1, 'l': 2, 'm': 1, 'u': 1, 'i': 1}"
      ]
     },
     "execution_count": 78,
     "metadata": {},
     "output_type": "execute_result"
    }
   ],
   "source": [
    "hand"
   ]
  },
  {
   "cell_type": "code",
   "execution_count": 65,
   "metadata": {},
   "outputs": [],
   "source": [
    "word2 = 'cat'"
   ]
  },
  {
   "cell_type": "code",
   "execution_count": 68,
   "metadata": {},
   "outputs": [],
   "source": []
  },
  {
   "cell_type": "code",
   "execution_count": 73,
   "metadata": {},
   "outputs": [
    {
     "data": {
      "text/plain": [
       "False"
      ]
     },
     "execution_count": 73,
     "metadata": {},
     "output_type": "execute_result"
    }
   ],
   "source": [
    "isValidWord('', hand, wordList)"
   ]
  },
  {
   "cell_type": "code",
   "execution_count": 79,
   "metadata": {},
   "outputs": [],
   "source": [
    "hand2 = {'r': 1, 'a': 3, 'p': 2, 'e': 1, 't': 1, 'u': 1}\n",
    "word2 = 'rapture'"
   ]
  },
  {
   "cell_type": "code",
   "execution_count": 80,
   "metadata": {},
   "outputs": [
    {
     "data": {
      "text/plain": [
       "False"
      ]
     },
     "execution_count": 80,
     "metadata": {},
     "output_type": "execute_result"
    }
   ],
   "source": [
    "isValidWord(word2, hand2, wordList)"
   ]
  },
  {
   "cell_type": "code",
   "execution_count": 81,
   "metadata": {},
   "outputs": [
    {
     "data": {
      "text/plain": [
       "{'a': 1, 'q': 1, 'l': 2, 'm': 1, 'u': 1, 'i': 1}"
      ]
     },
     "execution_count": 81,
     "metadata": {},
     "output_type": "execute_result"
    }
   ],
   "source": [
    "hand"
   ]
  },
  {
   "cell_type": "code",
   "execution_count": 82,
   "metadata": {},
   "outputs": [
    {
     "data": {
      "text/plain": [
       "dict_keys(['a', 'q', 'l', 'm', 'u', 'i'])"
      ]
     },
     "execution_count": 82,
     "metadata": {},
     "output_type": "execute_result"
    }
   ],
   "source": [
    "hand.keys()"
   ]
  },
  {
   "cell_type": "code",
   "execution_count": 88,
   "metadata": {},
   "outputs": [
    {
     "data": {
      "text/plain": [
       "7"
      ]
     },
     "execution_count": 88,
     "metadata": {},
     "output_type": "execute_result"
    }
   ],
   "source": [
    "handLength = 0\n",
    "for key in hand.keys():\n",
    "    for j in range(hand[key]):\n",
    "        handLength += 1\n",
    "handLength"
   ]
  },
  {
   "cell_type": "code",
   "execution_count": 89,
   "metadata": {},
   "outputs": [
    {
     "name": "stdout",
     "output_type": "stream",
     "text": [
      "\"\n"
     ]
    }
   ],
   "source": [
    "print('\"')"
   ]
  },
  {
   "cell_type": "code",
   "execution_count": 90,
   "metadata": {},
   "outputs": [],
   "source": [
    "def test():\n",
    "    return 'Total score: ' + str(5)"
   ]
  },
  {
   "cell_type": "code",
   "execution_count": 91,
   "metadata": {},
   "outputs": [
    {
     "data": {
      "text/plain": [
       "'Total score: 5'"
      ]
     },
     "execution_count": 91,
     "metadata": {},
     "output_type": "execute_result"
    }
   ],
   "source": [
    "test()"
   ]
  },
  {
   "cell_type": "code",
   "execution_count": 92,
   "metadata": {},
   "outputs": [
    {
     "name": "stdout",
     "output_type": "stream",
     "text": [
      "Current Total score: 5 "
     ]
    }
   ],
   "source": [
    "print('Current', test(), end=\" \")"
   ]
  },
  {
   "cell_type": "code",
   "execution_count": 93,
   "metadata": {},
   "outputs": [],
   "source": [
    "def displayHand(hand):\n",
    "    \"\"\"\n",
    "    Displays the letters currently in the hand.\n",
    "\n",
    "    For example:\n",
    "    >>> displayHand({'a':1, 'x':2, 'l':3, 'e':1})\n",
    "    Should print out something like:\n",
    "       a x x l l l e\n",
    "    The order of the letters is unimportant.\n",
    "\n",
    "    hand: dictionary (string -> int)\n",
    "    \"\"\"\n",
    "    for letter in hand.keys():\n",
    "        for j in range(hand[letter]):\n",
    "             print(letter,end=\" \")       # print all on the same line\n",
    "    print()  "
   ]
  },
  {
   "cell_type": "code",
   "execution_count": 94,
   "metadata": {},
   "outputs": [
    {
     "data": {
      "text/plain": [
       "{'a': 1, 'q': 1, 'l': 2, 'm': 1, 'u': 1, 'i': 1}"
      ]
     },
     "execution_count": 94,
     "metadata": {},
     "output_type": "execute_result"
    }
   ],
   "source": [
    "hand"
   ]
  },
  {
   "cell_type": "code",
   "execution_count": 107,
   "metadata": {},
   "outputs": [
    {
     "name": "stdout",
     "output_type": "stream",
     "text": [
      "a q l l m u i \n"
     ]
    }
   ],
   "source": [
    "displayHand(hand)"
   ]
  },
  {
   "cell_type": "code",
   "execution_count": 98,
   "metadata": {},
   "outputs": [
    {
     "name": "stdout",
     "output_type": "stream",
     "text": [
      "a q l l m u i \n"
     ]
    }
   ],
   "source": [
    "temp = displayHand(hand)"
   ]
  },
  {
   "cell_type": "code",
   "execution_count": 106,
   "metadata": {},
   "outputs": [
    {
     "name": "stdout",
     "output_type": "stream",
     "text": [
      "Current Hand: \n"
     ]
    }
   ],
   "source": [
    "print('Current Hand: ')"
   ]
  },
  {
   "cell_type": "code",
   "execution_count": 112,
   "metadata": {},
   "outputs": [
    {
     "name": "stdout",
     "output_type": "stream",
     "text": [
      "Current Hand: a q l l m u i \n"
     ]
    },
    {
     "data": {
      "text/plain": [
       "(None, None)"
      ]
     },
     "execution_count": 112,
     "metadata": {},
     "output_type": "execute_result"
    }
   ],
   "source": [
    "print('Current Hand: ',end = \"\"), displayHand(hand)"
   ]
  },
  {
   "cell_type": "code",
   "execution_count": null,
   "metadata": {},
   "outputs": [
    {
     "name": "stdout",
     "output_type": "stream",
     "text": [
      "Enter n to deal a new hand, r to replay the last hand, or e to end game: n\n",
      "n\n"
     ]
    }
   ],
   "source": [
    "play = True\n",
    "choice = ''\n",
    "while choice == '':\n",
    "    while (choice != 'n') or (choice != 'r') or (choice != 'e'):\n",
    "        choice = input('Enter n to deal a new hand, r to replay the last hand, or e to end game: ')\n",
    "        if choice == 'e':\n",
    "            play = False\n",
    "            break\n",
    "        elif choice == 'n':\n",
    "            print('n')\n",
    "        else:\n",
    "            print('Invalid command.')"
   ]
  },
  {
   "cell_type": "code",
   "execution_count": null,
   "metadata": {},
   "outputs": [],
   "source": []
  }
 ],
 "metadata": {
  "kernelspec": {
   "display_name": "Python 3",
   "language": "python",
   "name": "python3"
  },
  "language_info": {
   "codemirror_mode": {
    "name": "ipython",
    "version": 3
   },
   "file_extension": ".py",
   "mimetype": "text/x-python",
   "name": "python",
   "nbconvert_exporter": "python",
   "pygments_lexer": "ipython3",
   "version": "3.7.6"
  }
 },
 "nbformat": 4,
 "nbformat_minor": 4
}
