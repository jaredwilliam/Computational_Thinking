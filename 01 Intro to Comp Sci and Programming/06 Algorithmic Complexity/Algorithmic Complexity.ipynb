{
 "cells": [
  {
   "cell_type": "markdown",
   "metadata": {},
   "source": [
    "# Searching and Sorting Algorithms"
   ]
  },
  {
   "cell_type": "markdown",
   "metadata": {},
   "source": [
    "## Search Algorithms"
   ]
  },
  {
   "cell_type": "markdown",
   "metadata": {},
   "source": [
    "Search algorithm - method for finding an item or group of items with specific properties within a collection of items. \n",
    "\n",
    "Collection could be implicit. For example - find square root as a search problem. \n",
    "- Exhaustive enumeration\n",
    "- Bisection search\n",
    "- Newton-Raphson\n",
    "\n",
    "Collection could be explicit. For example - is a student record in a stored collection of data?\n",
    "\n",
    "Linear serach - brute force search. List does not have to be sorted. \n",
    "\n",
    "Bisection search - list MUST be sorted to give correct answer. Will see two different implementations of the algorithm. "
   ]
  },
  {
   "cell_type": "code",
   "execution_count": 1,
   "metadata": {},
   "outputs": [],
   "source": [
    "# Linear Search on Unsorted List\n",
    "def linear_search(L,e):\n",
    "    found = False\n",
    "    for i in range(len(L)):\n",
    "        if e == L[i]:\n",
    "            found = True\n",
    "    return found"
   ]
  },
  {
   "cell_type": "markdown",
   "metadata": {},
   "source": [
    "We must look through all the elements to decide it the element we are looking for is not there. \n",
    "\n",
    "O(len(L)) for the loop * O(1) to test if e==L[i]\n",
    "\n",
    "Overall complexity is O(n) - where n is len(L)\n",
    "\n",
    "Accessing an element in a list is constant time because of how it is stored as consecutive memory. We can go directly to that index. "
   ]
  },
  {
   "cell_type": "markdown",
   "metadata": {},
   "source": [
    "## Bisection Search"
   ]
  },
  {
   "cell_type": "code",
   "execution_count": 2,
   "metadata": {},
   "outputs": [],
   "source": [
    "# Linear search on sorted list\n",
    "def search(L,e):\n",
    "    for i in range(len(L)):\n",
    "        if L[i] == e:\n",
    "            return True\n",
    "        if L[i] > e:\n",
    "            return False\n",
    "    return False"
   ]
  },
  {
   "cell_type": "markdown",
   "metadata": {},
   "source": [
    "Must only look until you reach a number greater than e. \n",
    "\n",
    "O(len(L)) for the loop * O(1) to test if e==L[i]\n",
    "\n",
    "overall complexity is O(n) where n is len(L). \n",
    "\n",
    "**Use Bisection Search**\n",
    "1. Pick an index, i, that divides list in half\n",
    "2. Ask if L[i] == e\n",
    "3. If not, ask if L[i] is larger or smaller than e. \n",
    "4. Depending on answer, search left or right half of L for e\n",
    "\n",
    "A new version of a divide and conquer algorithm\n",
    "- Breaks into smaller versions of the same problem (smaller list), plus some simple operations\n",
    "- Answer to smaller version is answer to original problem\n",
    "\n",
    "Complexity is O(log n) where n is len(L)"
   ]
  },
  {
   "cell_type": "code",
   "execution_count": 3,
   "metadata": {},
   "outputs": [],
   "source": [
    "# Bisection Search Implementation 1\n",
    "def bisect_search(L,e):\n",
    "    if L == []:\n",
    "        return False\n",
    "    elif len(L) == 1:\n",
    "        return L[0] == e\n",
    "    else:\n",
    "        half = len(L)//2\n",
    "        if L[half] > e:\n",
    "            return bisect_search(L[:half],e)\n",
    "        else:\n",
    "            return bisect_search(L[half:],e)"
   ]
  },
  {
   "cell_type": "markdown",
   "metadata": {},
   "source": [
    "The \"bisect_search(L[:half],e)\" and \"bisect_search(L[half:],e)\" pieces of code are not O(1). Not because of the recursion - we know that is logrithmic. But because we are making a copy of half the list on each recursive call. This will add up to a higher complexity. An alternative is to just keep track of where we are looking at. "
   ]
  },
  {
   "cell_type": "code",
   "execution_count": 4,
   "metadata": {},
   "outputs": [],
   "source": [
    "# Bisection Search Implementation 2\n",
    "def bisect_search(L,e):\n",
    "    def bisect_search_helper(L,e,low,high):\n",
    "        if high == low:\n",
    "            return L[low] == e\n",
    "        mid = (low+high)//2\n",
    "        if L[mid] == e:\n",
    "            return True\n",
    "        elif L[mid] > e:\n",
    "            if low == mid: # nothing left to search\n",
    "                return False\n",
    "            else:\n",
    "                return bisect_search_helper(L,e,low,mid-1)\n",
    "        else:\n",
    "            return bisect_search_helper(L,e,mid+1, high)\n",
    "    if len(L) == 0:\n",
    "        return False\n",
    "    else:\n",
    "        return bisect_search_helper(L,e,0,len(L)-1)"
   ]
  },
  {
   "cell_type": "markdown",
   "metadata": {},
   "source": [
    "## Bogo Sort"
   ]
  },
  {
   "cell_type": "markdown",
   "metadata": {},
   "source": []
  },
  {
   "cell_type": "markdown",
   "metadata": {},
   "source": [
    "## Bubble Sort"
   ]
  },
  {
   "cell_type": "markdown",
   "metadata": {},
   "source": []
  },
  {
   "cell_type": "markdown",
   "metadata": {},
   "source": [
    "## Selection Sort"
   ]
  },
  {
   "cell_type": "markdown",
   "metadata": {},
   "source": []
  },
  {
   "cell_type": "markdown",
   "metadata": {},
   "source": [
    "## Merge Sort"
   ]
  },
  {
   "cell_type": "markdown",
   "metadata": {},
   "source": []
  }
 ],
 "metadata": {
  "kernelspec": {
   "display_name": "Python 3",
   "language": "python",
   "name": "python3"
  },
  "language_info": {
   "codemirror_mode": {
    "name": "ipython",
    "version": 3
   },
   "file_extension": ".py",
   "mimetype": "text/x-python",
   "name": "python",
   "nbconvert_exporter": "python",
   "pygments_lexer": "ipython3",
   "version": "3.8.5"
  }
 },
 "nbformat": 4,
 "nbformat_minor": 4
}
