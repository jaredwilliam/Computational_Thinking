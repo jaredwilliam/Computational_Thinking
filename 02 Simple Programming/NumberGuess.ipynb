{
 "cells": [
  {
   "cell_type": "code",
   "execution_count": 15,
   "metadata": {},
   "outputs": [
    {
     "name": "stdin",
     "output_type": "stream",
     "text": [
      "Please think of a number between 0 and 100! 75\n"
     ]
    },
    {
     "name": "stdout",
     "output_type": "stream",
     "text": [
      "Is your secret number 50?\n"
     ]
    },
    {
     "name": "stdin",
     "output_type": "stream",
     "text": [
      "Enter 'h' to indicate the guess is too high. Enter 'l' to indicate the guess is too low. Enter 'c' to indicate I guessed correctly. y\n"
     ]
    },
    {
     "name": "stdout",
     "output_type": "stream",
     "text": [
      "Sorry, I did not understand your input.\n",
      "Is your secret number 50?\n"
     ]
    },
    {
     "name": "stdin",
     "output_type": "stream",
     "text": [
      "Enter 'h' to indicate the guess is too high. Enter 'l' to indicate the guess is too low. Enter 'c' to indicate I guessed correctly. l\n"
     ]
    },
    {
     "name": "stdout",
     "output_type": "stream",
     "text": [
      "Is your secret number 75?\n"
     ]
    },
    {
     "name": "stdin",
     "output_type": "stream",
     "text": [
      "Enter 'h' to indicate the guess is too high. Enter 'l' to indicate the guess is too low. Enter 'c' to indicate I guessed correctly. c\n"
     ]
    },
    {
     "name": "stdout",
     "output_type": "stream",
     "text": [
      "Game over. Your secret number was: 75\n"
     ]
    }
   ],
   "source": [
    "user_number = int(input('Please think of a number between 0 and 100!'))   \n",
    "\n",
    "low = 0\n",
    "high = 100\n",
    "guess = (low+high)//2\n",
    "play = True\n",
    "\n",
    "while play:\n",
    "    print(\"Is your secret number \" + str(guess) + \"?\")\n",
    "    ans = input(\"Enter 'h' to indicate the guess is too high. Enter 'l' to indicate the guess is too low. Enter 'c' to indicate I guessed correctly.\")\n",
    "    \n",
    "    if ans == 'h':\n",
    "        high = guess\n",
    "    elif ans == 'l':\n",
    "        low = guess\n",
    "    elif ans == 'c':\n",
    "        play = False\n",
    "    else:\n",
    "        print('Sorry, I did not understand your input.')\n",
    "    \n",
    "    guess = (low+high)//2\n",
    "    \n",
    "#if guess == user_number:\n",
    "print('Game over. Your secret number was:', guess)"
   ]
  },
  {
   "cell_type": "code",
   "execution_count": null,
   "metadata": {},
   "outputs": [],
   "source": []
  }
 ],
 "metadata": {
  "kernelspec": {
   "display_name": "Python 3",
   "language": "python",
   "name": "python3"
  },
  "language_info": {
   "codemirror_mode": {
    "name": "ipython",
    "version": 3
   },
   "file_extension": ".py",
   "mimetype": "text/x-python",
   "name": "python",
   "nbconvert_exporter": "python",
   "pygments_lexer": "ipython3",
   "version": "3.7.6"
  }
 },
 "nbformat": 4,
 "nbformat_minor": 4
}
